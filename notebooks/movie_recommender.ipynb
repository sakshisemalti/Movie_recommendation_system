{
 "cells": [
  {
   "cell_type": "code",
   "execution_count": 1,
   "id": "a4e9d75f-7b81-4aca-9c80-421687aab56c",
   "metadata": {},
   "outputs": [],
   "source": [
    "# Step 1: Import libraries\n",
    "import pandas as pd\n",
    "import numpy as np\n",
    "from sklearn.feature_extraction.text import TfidfVectorizer\n",
    "from sklearn.metrics.pairwise import cosine_similarity"
   ]
  },
  {
   "cell_type": "code",
   "execution_count": 2,
   "id": "d685f8f4-5e41-443d-9a17-99426e7b538e",
   "metadata": {},
   "outputs": [
    {
     "data": {
      "text/html": [
       "<div>\n",
       "<style scoped>\n",
       "    .dataframe tbody tr th:only-of-type {\n",
       "        vertical-align: middle;\n",
       "    }\n",
       "\n",
       "    .dataframe tbody tr th {\n",
       "        vertical-align: top;\n",
       "    }\n",
       "\n",
       "    .dataframe thead th {\n",
       "        text-align: right;\n",
       "    }\n",
       "</style>\n",
       "<table border=\"1\" class=\"dataframe\">\n",
       "  <thead>\n",
       "    <tr style=\"text-align: right;\">\n",
       "      <th></th>\n",
       "      <th>movie_id</th>\n",
       "      <th>title</th>\n",
       "      <th>genres</th>\n",
       "      <th>img</th>\n",
       "      <th>plot</th>\n",
       "    </tr>\n",
       "  </thead>\n",
       "  <tbody>\n",
       "    <tr>\n",
       "      <th>0</th>\n",
       "      <td>tt0000076</td>\n",
       "      <td>Exit of Rip and the Dwarf</td>\n",
       "      <td>['Drama']</td>\n",
       "      <td>/x3vnlvcBM6wBMbmgdzGLAkZYYpP.jpg</td>\n",
       "      <td>A series of short black and white films from d...</td>\n",
       "    </tr>\n",
       "    <tr>\n",
       "      <th>1</th>\n",
       "      <td>tt0000131</td>\n",
       "      <td>A Terrible Night</td>\n",
       "      <td>['Comedy', 'Horror']</td>\n",
       "      <td>/7UDpBTe9mSwGeHUo5DZ2VmUWZMy.jpg</td>\n",
       "      <td>A man tries to get a good night's sleep, but i...</td>\n",
       "    </tr>\n",
       "    <tr>\n",
       "      <th>2</th>\n",
       "      <td>tt0000172</td>\n",
       "      <td>The X-Ray Fiend</td>\n",
       "      <td>['Comedy', 'Horror']</td>\n",
       "      <td>/9W5EcN51j8eNrxqUwbQfoS6HUgZ.jpg</td>\n",
       "      <td>A romantic couple are transformed into skeleto...</td>\n",
       "    </tr>\n",
       "    <tr>\n",
       "      <th>3</th>\n",
       "      <td>tt0000248</td>\n",
       "      <td>A Kiss in the Tunnel</td>\n",
       "      <td>['Comedy', 'Romance']</td>\n",
       "      <td>/lwdF4ih4E88Icfdk2nKTDMdUd3K.jpg</td>\n",
       "      <td>Produced and directed by George Albert Smith, ...</td>\n",
       "    </tr>\n",
       "    <tr>\n",
       "      <th>4</th>\n",
       "      <td>tt0000273</td>\n",
       "      <td>Attack on a China Mission</td>\n",
       "      <td>['Action', 'Crime', 'Drama']</td>\n",
       "      <td>/2zzTE2p1tEAQmy9ppYP2Da10nQF.jpg</td>\n",
       "      <td>The titles tell us this film is based on an in...</td>\n",
       "    </tr>\n",
       "  </tbody>\n",
       "</table>\n",
       "</div>"
      ],
      "text/plain": [
       "    movie_id                      title                        genres  \\\n",
       "0  tt0000076  Exit of Rip and the Dwarf                     ['Drama']   \n",
       "1  tt0000131           A Terrible Night          ['Comedy', 'Horror']   \n",
       "2  tt0000172            The X-Ray Fiend          ['Comedy', 'Horror']   \n",
       "3  tt0000248       A Kiss in the Tunnel         ['Comedy', 'Romance']   \n",
       "4  tt0000273  Attack on a China Mission  ['Action', 'Crime', 'Drama']   \n",
       "\n",
       "                                img  \\\n",
       "0  /x3vnlvcBM6wBMbmgdzGLAkZYYpP.jpg   \n",
       "1  /7UDpBTe9mSwGeHUo5DZ2VmUWZMy.jpg   \n",
       "2  /9W5EcN51j8eNrxqUwbQfoS6HUgZ.jpg   \n",
       "3  /lwdF4ih4E88Icfdk2nKTDMdUd3K.jpg   \n",
       "4  /2zzTE2p1tEAQmy9ppYP2Da10nQF.jpg   \n",
       "\n",
       "                                                plot  \n",
       "0  A series of short black and white films from d...  \n",
       "1  A man tries to get a good night's sleep, but i...  \n",
       "2  A romantic couple are transformed into skeleto...  \n",
       "3  Produced and directed by George Albert Smith, ...  \n",
       "4  The titles tell us this film is based on an in...  "
      ]
     },
     "execution_count": 2,
     "metadata": {},
     "output_type": "execute_result"
    }
   ],
   "source": [
    "# Step 2: Load the Kaggle dataset\n",
    "movies = pd.read_csv(\"../data/movies_with_posters.csv\")  # adjust path if needed\n",
    "movies.head()\n"
   ]
  },
  {
   "cell_type": "code",
   "execution_count": 3,
   "id": "be4f4a9d-49a6-4f5e-8a8b-2a4022673798",
   "metadata": {},
   "outputs": [],
   "source": [
    "# Step 3: Create poster URL column\n",
    "movies['poster_url'] = \"https://image.tmdb.org/t/p/w500\" + movies['img']"
   ]
  },
  {
   "cell_type": "code",
   "execution_count": 4,
   "id": "5f68528d-a6a3-4053-95bc-7a24908f9f37",
   "metadata": {},
   "outputs": [],
   "source": [
    "# Step 4: Create tags for recommendation\n",
    "# Combine plot + genres as tags\n",
    "movies['tags'] = movies['plot'].fillna('') + \" \" + movies['genres'].apply(lambda x: \" \".join(eval(x)) if isinstance(x, str) else \"\")\n",
    "movies['tags'] = movies['tags'].str.lower()  # lowercase for uniformity"
   ]
  },
  {
   "cell_type": "code",
   "execution_count": 5,
   "id": "25373a33-56d6-41d6-a661-f9259e9202b2",
   "metadata": {},
   "outputs": [
    {
     "name": "stdout",
     "output_type": "stream",
     "text": [
      "TF-IDF Vectors Shape: (24171, 47674)\n"
     ]
    }
   ],
   "source": [
    "# Step 5: Convert tags into numerical vectors (TF-IDF)\n",
    "tfidf = TfidfVectorizer(stop_words='english')\n",
    "vectors = tfidf.fit_transform(movies['tags']).toarray()\n",
    "print(\"TF-IDF Vectors Shape:\", vectors.shape)"
   ]
  },
  {
   "cell_type": "code",
   "execution_count": 6,
   "id": "94275abd-d838-47c1-b03e-c984a89c00e1",
   "metadata": {},
   "outputs": [
    {
     "name": "stdout",
     "output_type": "stream",
     "text": [
      "Similarity matrix shape: (24171, 24171)\n"
     ]
    },
    {
     "name": "stderr",
     "output_type": "stream",
     "text": [
      "/Users/sakshi/Documents/Movie_recommendation_system/.venv/lib/python3.9/site-packages/sklearn/utils/extmath.py:203: RuntimeWarning: divide by zero encountered in matmul\n",
      "  ret = a @ b\n",
      "/Users/sakshi/Documents/Movie_recommendation_system/.venv/lib/python3.9/site-packages/sklearn/utils/extmath.py:203: RuntimeWarning: overflow encountered in matmul\n",
      "  ret = a @ b\n",
      "/Users/sakshi/Documents/Movie_recommendation_system/.venv/lib/python3.9/site-packages/sklearn/utils/extmath.py:203: RuntimeWarning: invalid value encountered in matmul\n",
      "  ret = a @ b\n"
     ]
    }
   ],
   "source": [
    "# Step 6: Compute cosine similarity\n",
    "similarity = cosine_similarity(vectors)\n",
    "print(\"Similarity matrix shape:\", similarity.shape)"
   ]
  },
  {
   "cell_type": "code",
   "execution_count": 7,
   "id": "b96ac0ff-b87a-4572-a11b-a49f9be9f73b",
   "metadata": {},
   "outputs": [],
   "source": [
    "# Step 7: Recommendation function\n",
    "def recommend(movie_name):\n",
    "    if movie_name not in movies['title'].values:\n",
    "        print(\"Movie not found!\")\n",
    "        return [], []\n",
    "    \n",
    "    index = movies[movies['title'] == movie_name].index[0]\n",
    "    distances = similarity[index]\n",
    "    movie_list = sorted(list(enumerate(distances)), reverse=True, key=lambda x: x[1])[1:6]\n",
    "\n",
    "    recommended_titles = []\n",
    "    recommended_posters = []\n",
    "    for i in movie_list:\n",
    "        recommended_titles.append(movies.iloc[i[0]].title)\n",
    "        recommended_posters.append(movies.iloc[i[0]].poster_url)\n",
    "    return recommended_titles, recommended_posters"
   ]
  },
  {
   "cell_type": "code",
   "execution_count": 8,
   "id": "0d8003f9-c025-4b78-993b-3564d0d78a13",
   "metadata": {},
   "outputs": [
    {
     "name": "stdout",
     "output_type": "stream",
     "text": [
      "Movie not found!\n"
     ]
    }
   ],
   "source": [
    "# Step 8: Test recommendation\n",
    "titles, posters = recommend(\"Avatar\")  # replace with any movie in dataset\n",
    "for t, p in zip(titles, posters):\n",
    "    print(t, p)"
   ]
  },
  {
   "cell_type": "code",
   "execution_count": 10,
   "id": "11b3d501-93d0-4a3e-bccc-58eedf12217b",
   "metadata": {},
   "outputs": [
    {
     "name": "stdout",
     "output_type": "stream",
     "text": [
      "Mean similarity: 0.007938736346709503\n",
      "Max similarity: 1.0000000000000009\n",
      "Min similarity: 0.0\n"
     ]
    }
   ],
   "source": [
    "sim_values = similarity.flatten()\n",
    "print(\"Mean similarity:\", np.mean(sim_values))\n",
    "print(\"Max similarity:\", np.max(sim_values))\n",
    "print(\"Min similarity:\", np.min(sim_values))"
   ]
  },
  {
   "cell_type": "code",
   "execution_count": 9,
   "id": "bd97421e-546f-4398-a145-ddb096851b56",
   "metadata": {},
   "outputs": [
    {
     "name": "stdout",
     "output_type": "stream",
     "text": [
      "Pickle files saved successfully!\n"
     ]
    }
   ],
   "source": [
    "import pickle\n",
    "pickle.dump(movies, open(\"../notebooks/movies.pkl\", \"wb\"))\n",
    "pickle.dump(similarity, open(\"../notebooks/similarity.pkl\", \"wb\"))\n",
    "print(\"Pickle files saved successfully!\")"
   ]
  },
  {
   "cell_type": "code",
   "execution_count": null,
   "id": "986882c8-65a8-4b42-bbe5-e6d9cb977011",
   "metadata": {},
   "outputs": [],
   "source": []
  }
 ],
 "metadata": {
  "kernelspec": {
   "display_name": "Python 3 (ipykernel)",
   "language": "python",
   "name": "python3"
  },
  "language_info": {
   "codemirror_mode": {
    "name": "ipython",
    "version": 3
   },
   "file_extension": ".py",
   "mimetype": "text/x-python",
   "name": "python",
   "nbconvert_exporter": "python",
   "pygments_lexer": "ipython3",
   "version": "3.9.6"
  }
 },
 "nbformat": 4,
 "nbformat_minor": 5
}
